{
 "cells": [
  {
   "cell_type": "code",
   "execution_count": 4,
   "metadata": {},
   "outputs": [],
   "source": [
    "import json    \n",
    "import csv"
   ]
  },
  {
   "cell_type": "code",
   "execution_count": 6,
   "metadata": {},
   "outputs": [],
   "source": [
    "test_data = []\n",
    "with open('tweets_test.json') as f:\n",
    "    for line in f:\n",
    "        test_data.append(json.loads(line))\n",
    "        \n",
    "with open(\"tweets_test.csv\", \"w\") as file:\n",
    "    csv_file = csv.writer(file)\n",
    "    for item in test_data:\n",
    "        csv_file.writerow([item['text']])\n",
    "        \n",
    "# for i in range (0,1000):\n",
    "#    if data['statuses'][i][u'lang']==u'en':\n",
    "#       print data['statuses'][i]['text']\n",
    "#       print '\\n'\n"
   ]
  },
  {
   "cell_type": "code",
   "execution_count": null,
   "metadata": {},
   "outputs": [],
   "source": []
  }
 ],
 "metadata": {
  "kernelspec": {
   "display_name": "Python 3",
   "language": "python",
   "name": "python3"
  },
  "language_info": {
   "codemirror_mode": {
    "name": "ipython",
    "version": 3
   },
   "file_extension": ".py",
   "mimetype": "text/x-python",
   "name": "python",
   "nbconvert_exporter": "python",
   "pygments_lexer": "ipython3",
   "version": "3.6.5"
  }
 },
 "nbformat": 4,
 "nbformat_minor": 2
}
